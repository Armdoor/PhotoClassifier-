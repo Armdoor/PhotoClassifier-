{
  "cells": [
    {
      "cell_type": "markdown",
      "metadata": {
        "id": "9mHPDGaUKS9O"
      },
      "source": [
        "In this homework you'll train a simple image classifier using using Pytorch. If you're not familiar with Pytorch please take a look at our [introduction to Pytorch notebook](https://colab.research.google.com/drive/1GO_YSErd9TjiH0R-hZ2XkKIfMbQK9Ask?usp=sharing). There are four parts to the homework:\n",
        "\n",
        "1. Dataset class: you'll create a custom dataset class that you'll use to load the images for training. Your image transformations should be done in the dataset class.\n",
        "\n",
        "2. Model design: in this section you'll design a simple CNN based model architecture to learn to predict image classes correctly.\n",
        "\n",
        "3. Model training: train an image classifier using the model you designed in step 2. You'll need to instantiate a dataloader that uses an instance of your dataset class to iterate through the dataset for training.\n",
        "\n",
        "4. Evaluation: load your model's weight and run inference on the dataset and report your result"
      ]
    },
    {
      "cell_type": "code",
      "execution_count": 1,
      "metadata": {
        "id": "JFMMCsSPHXnF",
        "colab": {
          "base_uri": "https://localhost:8080/"
        },
        "outputId": "08aefcc8-cf59-4c34-8777-317ca6d63f8f"
      },
      "outputs": [
        {
          "output_type": "stream",
          "name": "stdout",
          "text": [
            "--2024-05-03 01:29:53--  http://cs.umd.edu/~pulkit/hw_3_data.tar.gz\n",
            "Resolving cs.umd.edu (cs.umd.edu)... 128.8.127.4\n",
            "Connecting to cs.umd.edu (cs.umd.edu)|128.8.127.4|:80... connected.\n",
            "HTTP request sent, awaiting response... 301 Moved Permanently\n",
            "Location: http://www.cs.umd.edu/~pulkit/hw_3_data.tar.gz [following]\n",
            "--2024-05-03 01:29:53--  http://www.cs.umd.edu/~pulkit/hw_3_data.tar.gz\n",
            "Resolving www.cs.umd.edu (www.cs.umd.edu)... 128.8.127.4\n",
            "Reusing existing connection to cs.umd.edu:80.\n",
            "HTTP request sent, awaiting response... 200 OK\n",
            "Length: 7171530 (6.8M) [application/x-gzip]\n",
            "Saving to: ‘data.tar.gz’\n",
            "\n",
            "data.tar.gz         100%[===================>]   6.84M  4.48MB/s    in 1.5s    \n",
            "\n",
            "2024-05-03 01:29:55 (4.48 MB/s) - ‘data.tar.gz’ saved [7171530/7171530]\n",
            "\n"
          ]
        }
      ],
      "source": [
        "import os\n",
        "import tarfile\n",
        "\n",
        "if not os.path.isfile('./data.tar.gz'):\n",
        "    !wget 'http://cs.umd.edu/~pulkit/hw_3_data.tar.gz' -O data.tar.gz\n",
        "\n",
        "with tarfile.open('./data.tar.gz', 'r:gz') as tar:\n",
        "    tar.extractall(path='./')\n"
      ]
    },
    {
      "cell_type": "markdown",
      "metadata": {
        "id": "1jwdJ6QNL64y"
      },
      "source": [
        "## Dataset class"
      ]
    },
    {
      "cell_type": "code",
      "execution_count": 27,
      "metadata": {
        "id": "7bt-Ur2VKOhj"
      },
      "outputs": [],
      "source": [
        "import torch\n",
        "from torch.utils.data import Dataset\n",
        "import pandas as pd\n",
        "import cv2\n",
        "import os\n",
        "\n",
        "\n",
        "class CustomImageDataset(Dataset):\n",
        "    def __init__(self, csv_path, data_root, transform=None, device='cpu'):\n",
        "        self.transform = transform\n",
        "        self.root_path = data_root\n",
        "        self.device = device\n",
        "\n",
        "        # TODO: Read the csv file. You can use the pandas library\n",
        "        data = pd.read_csv(csv_path)\n",
        "\n",
        "        # TODO : Get the image paths from the csv\n",
        "        self.image_paths = data['image_path'].tolist()\n",
        "\n",
        "        # TODO: Get the class ids from the csv. You might want to check if the class_id\n",
        "        # column exists in the csv before trying to get it. The test csv does not have\n",
        "        # the class_id column\n",
        "        if 'class_id' in data.columns:\n",
        "            self.class_ids = data['class_id'].tolist()\n",
        "        else:\n",
        "            self.class_ids = None\n",
        "\n",
        "        # TODO: Get the image names from the csv. This is required for the test part at\n",
        "        # the end of the notebook. You should only return the image name for testing,\n",
        "        # otherwise you should return the image and the class id\n",
        "        if 'image_name' in data.columns:\n",
        "            self.image_names = data['image_name'].tolist()\n",
        "        else:\n",
        "            self.image_names = None\n",
        "\n",
        "    def __len__(self):\n",
        "        return len(self.image_paths)\n",
        "\n",
        "    def __getitem__(self, idx: int):\n",
        "        rel_img_path = self.image_paths[idx]\n",
        "        image_name = self.image_names[idx]\n",
        "\n",
        "            # TODO: Read the image file\n",
        "        img = cv2.imread(rel_img_path)\n",
        "        # TODO Apply transformations if any to the image. You will want to at least convert\n",
        "        # the image to a tensor. You can also apply other transformations.\n",
        "\n",
        "        normalize = transforms.Normalize(mean=[0.485, 0.456, 0.406],\n",
        "                                 std=[0.229, 0.224, 0.225])\n",
        "        if self.transform is not None:\n",
        "            img = self.transform(img)\n",
        "        else:\n",
        "            img = cv2.cvtColor(img, cv2.COLOR_BGR2RGB)\n",
        "            img = transforms.ToTensor()(img)\n",
        "            img = normalize(img)\n",
        "\n",
        "        if self.class_ids is None: # for testing purposes\n",
        "            return img, image_name, rel_img_path\n",
        "        else:\n",
        "            class_id = torch.tensor(self.class_ids[idx], dtype=torch.long)\n",
        "            return img.to(self.device), class_id.to(self.device)"
      ]
    },
    {
      "cell_type": "code",
      "execution_count": 28,
      "metadata": {
        "id": "DwbZlP1UQoN1",
        "colab": {
          "base_uri": "https://localhost:8080/",
          "height": 1000
        },
        "outputId": "30b19133-109d-4467-fc60-b15c906032a1"
      },
      "outputs": [
        {
          "output_type": "display_data",
          "data": {
            "text/plain": [
              "<Figure size 640x480 with 1 Axes>"
            ],
            "image/png": "[encoded data removed]"
          },
          "metadata": {}
        },
        {
          "output_type": "display_data",
          "data": {
            "text/plain": [
              "<Figure size 640x480 with 1 Axes>"
            ],
            "image/png": "[encoded data removed]"
          },
          "metadata": {}
        },
        {
          "output_type": "display_data",
          "data": {
            "text/plain": [
              "<Figure size 640x480 with 1 Axes>"
            ],
            "image/png": "[encoded data removed]"
          },
          "metadata": {}
        }
      ],
      "source": [
        "import matplotlib.pyplot as plt\n",
        "import torchvision.transforms as transforms\n",
        "import torchvision.transforms as T\n",
        "import numpy as np\n",
        "def plot_image(img, title=None):\n",
        "\n",
        "    img = (img * 255).astype(np.uint8)\n",
        "    plt.imshow(img)\n",
        "    if title:\n",
        "        plt.title(title)\n",
        "    plt.axis('off')\n",
        "    plt.show()\n",
        "\n",
        "def unnormalize(img):\n",
        "    mean = np.array([0.485, 0.456, 0.406])\n",
        "    std = np.array([0.229, 0.224, 0.225])\n",
        "    img = img.numpy().transpose((1, 2, 0))\n",
        "    img = std * img + mean\n",
        "    img = np.clip(img, 0, 1)\n",
        "    return img\n",
        "\n",
        "csv_path = \"/content/data/csvs/train.csv\"\n",
        "data_root = '/content/data/train'\n",
        "transform = T.Compose([\n",
        "    T.ToTensor(),\n",
        "    T.Normalize(mean=[0.485, 0.456, 0.406], std=[0.229, 0.224, 0.225])\n",
        "])\n",
        "dataset = CustomImageDataset(csv_path, data_root, transform)\n",
        "\n",
        "for i in range(3):\n",
        "    img, class_id = dataset[i]\n",
        "    img = unnormalize(img)\n",
        "    plot_image(img, title=f'Class ID: {class_id}')"
      ]
    },
    {
      "cell_type": "markdown",
      "metadata": {
        "id": "CtFIz_pdRcJ6"
      },
      "source": [
        "### Model definition\n",
        "\n",
        "Define your image classifier model here. Since we're working with images, you should consider an convolution neural network type model architecture. Start simple and make it more complex if you need to once you have something working."
      ]
    },
    {
      "cell_type": "code",
      "execution_count": 31,
      "metadata": {
        "id": "UR-UqnCNRhWE"
      },
      "outputs": [],
      "source": [
        "import torch.nn as nn\n",
        "import torch.nn.functional as F\n",
        "\n",
        "class ImageClassifier(nn.Module):\n",
        "    def __init__(self, n_classes):\n",
        "        super().__init__()\n",
        "\n",
        "        # Convolutional layers\n",
        "        self.conv1 = nn.Conv2d(3, 32, kernel_size=3, stride=1, padding=1)\n",
        "        self.conv2 = nn.Conv2d(32, 64, kernel_size=3, stride=1, padding=1)\n",
        "        self.pool = nn.MaxPool2d(2, 2)\n",
        "        self.dropout = nn.Dropout(0.5)\n",
        "        # Fully connected layers\n",
        "        self.fc1 = nn.Linear(64 * 16 * 16, 512)\n",
        "        self.fc2 = nn.Linear(512, n_classes)\n",
        "\n",
        "\n",
        "    def forward(self, x):\n",
        "        x = self.pool(F.relu(self.conv1(x)))\n",
        "        x = self.pool(F.relu(self.conv2(x)))\n",
        "\n",
        "        x = torch.flatten(x, 1)\n",
        "        x = F.relu(self.fc1(x))\n",
        "        x = self.dropout(x)\n",
        "        x = self.fc2(x)\n",
        "        return x\n"
      ]
    },
    {
      "cell_type": "markdown",
      "metadata": {
        "id": "VK-lrVzeWgvs"
      },
      "source": [
        "### Training"
      ]
    },
    {
      "cell_type": "code",
      "execution_count": 82,
      "metadata": {
        "id": "WF0QMXRCWi-0",
        "colab": {
          "base_uri": "https://localhost:8080/"
        },
        "outputId": "10d8ade8-6a43-4374-cb03-72fa5a4b105e"
      },
      "outputs": [
        {
          "output_type": "stream",
          "name": "stderr",
          "text": [
            "100%|██████████| 750/750 [00:04<00:00, 170.35it/s]\n",
            "100%|██████████| 750/750 [00:03<00:00, 198.53it/s]\n",
            "100%|██████████| 750/750 [00:03<00:00, 215.80it/s]\n",
            "100%|██████████| 125/125 [00:00<00:00, 375.44it/s]\n"
          ]
        },
        {
          "output_type": "stream",
          "name": "stdout",
          "text": [
            "Epoch: 2, Train Loss: 1.574599027633667 Eval Loss: 1.407231436252594\n"
          ]
        },
        {
          "output_type": "stream",
          "name": "stderr",
          "text": [
            "100%|██████████| 750/750 [00:03<00:00, 212.93it/s]\n",
            "100%|██████████| 750/750 [00:03<00:00, 196.78it/s]\n",
            "100%|██████████| 125/125 [00:00<00:00, 404.03it/s]\n"
          ]
        },
        {
          "output_type": "stream",
          "name": "stdout",
          "text": [
            "Epoch: 4, Train Loss: 1.9374089241027832 Eval Loss: 1.3246377021074296\n"
          ]
        },
        {
          "output_type": "stream",
          "name": "stderr",
          "text": [
            "100%|██████████| 750/750 [00:03<00:00, 214.65it/s]\n",
            "100%|██████████| 750/750 [00:03<00:00, 214.47it/s]\n",
            "100%|██████████| 125/125 [00:00<00:00, 389.63it/s]\n"
          ]
        },
        {
          "output_type": "stream",
          "name": "stdout",
          "text": [
            "Epoch: 6, Train Loss: 0.23804396390914917 Eval Loss: 1.335661179766059\n"
          ]
        },
        {
          "output_type": "stream",
          "name": "stderr",
          "text": [
            "100%|██████████| 750/750 [00:03<00:00, 202.69it/s]\n",
            "100%|██████████| 750/750 [00:03<00:00, 205.90it/s]\n",
            "100%|██████████| 125/125 [00:00<00:00, 401.91it/s]\n"
          ]
        },
        {
          "output_type": "stream",
          "name": "stdout",
          "text": [
            "Epoch: 8, Train Loss: 0.26503056287765503 Eval Loss: 1.4184211286082864\n"
          ]
        },
        {
          "output_type": "stream",
          "name": "stderr",
          "text": [
            "100%|██████████| 750/750 [00:04<00:00, 162.58it/s]\n"
          ]
        }
      ],
      "source": [
        "from torch.utils.data import DataLoader\n",
        "from torch.utils.data import random_split\n",
        "from torch.optim import Adam\n",
        "import torchvision.transforms as T\n",
        "from tqdm import tqdm\n",
        "from sklearn.model_selection import ParameterGrid\n",
        "\n",
        "device = 'cuda' if torch.cuda.is_available() else 'cpu'\n",
        "\n",
        "# Feel free to try other batch sizes. The batch size is usually a power of 2.\n",
        "batch_size = 4\n",
        "\n",
        "# You can try other learning rates to see how it affects the training.\n",
        "learning_rate = 1e-4\n",
        "\n",
        "# Try to explore different transformation functions. You can use transformations\n",
        "# to make your model more robust to translation, color changes etc. This is a good\n",
        "# article that explains some transformations available in Pytorch\n",
        "# https://pytorch.org/vision/stable/transforms.html. You can use transformations\n",
        "# to augment/\"increase\" your training data.\n",
        "transform = T.Compose([\n",
        "    T.ToTensor(),\n",
        "    T.Normalize(mean=[0.485, 0.456, 0.406], std=[0.229, 0.224, 0.225])\n",
        "])\n",
        "\n",
        "img_root = \"./\"\n",
        "\n",
        "# TODO: Create an instance of the CustomImageDataset class for the training and validation datasets\n",
        "train_set = CustomImageDataset(csv_path='/content/data/csvs/train.csv', data_root='/content/data/train', transform=transform)\n",
        "val_set = CustomImageDataset(csv_path='/content/data/csvs/val.csv', data_root='/content/data/val', transform=transform)\n",
        "\n",
        "# TODO: Create two dataloaders for bothe datasets.\n",
        "# TODO: Shuffle the training dataloader. This is important to prevent the model from learning the order of the data.\n",
        "train_loader = DataLoader(train_set, batch_size=batch_size, shuffle=True)\n",
        "val_loader = DataLoader(val_set, batch_size=batch_size, shuffle=False)\n",
        "\n",
        "# TODO: Initialize your model\n",
        "n_classes = 10\n",
        "model = ImageClassifier(n_classes=n_classes).to(device)\n",
        "\n",
        "# TODO: Initialize the optimizer. Feel free to try other optimizers in the torch.optim\n",
        "# module.\n",
        "# Hint: the Adam optimizer and its variants are the staple these days.\n",
        "optimizer = Adam(model.parameters(), lr=learning_rate)\n",
        "\n",
        "# TODO: Instantiate the loss function.\n",
        "# Hint: Cross entropy loss works great for classification tasks like this one.\n",
        "# Reading up on what loss function to use for what task could be informative\n",
        "loss_fn = nn.CrossEntropyLoss()\n",
        "\n",
        "# Training loop\n",
        "eval_every = 2\n",
        "\n",
        "# Consider training for longer. Keep an eye on the validation loss and decide\n",
        "# on what works best for you.\n",
        "n_epochs = 10\n",
        "val_loss_values = []\n",
        "training_loss_values = []\n",
        "eval_epochs = []\n",
        "\n",
        "# Early stopping initialization\n",
        "best_val_loss = float('inf')\n",
        "patience = 0\n",
        "max_patience = 3\n",
        "\n",
        "\n",
        "\n",
        "for epoch in range(n_epochs):\n",
        "    # set your model to training mode. This is important if you're using normalization\n",
        "    # or dropout\n",
        "    model.train()\n",
        "    for img, label in tqdm(train_loader):\n",
        "        img, label = img.to(device), label.to(device)\n",
        "\n",
        "        # zero the parameter gradients\n",
        "        optimizer.zero_grad()\n",
        "\n",
        "        # TODO: Make a forward pass (predict the class of the image)\n",
        "        pred = model(img)\n",
        "\n",
        "        # Calculate the loss\n",
        "        loss = loss_fn(pred, label)\n",
        "\n",
        "        loss.backward()\n",
        "        optimizer.step()\n",
        "\n",
        "    # Validation loop\n",
        "    if epoch > 0 and epoch % eval_every == 0:\n",
        "        model.eval()\n",
        "        val_loss = 0\n",
        "\n",
        "        # don't calculate gradients when evaluating your model\n",
        "        with torch.no_grad():\n",
        "            for img, label in tqdm(val_loader):\n",
        "                img, label = img.to(device), label.to(device)\n",
        "                pred = model(img)\n",
        "                val_loss += loss_fn(pred, label).item()\n",
        "\n",
        "        print(f\"Epoch: {epoch}, Train Loss: {loss.item()} Eval Loss: {val_loss / len(val_loader)}\")\n",
        "        eval_epochs.append(epoch)\n",
        "        training_loss_values.append(loss.item())\n",
        "        val_loss_values.append(val_loss / len(val_loader))\n",
        "\n",
        "        # Early stopping check\n",
        "        if val_loss < best_val_loss:\n",
        "            best_val_loss = val_loss\n",
        "            patience = 0\n",
        "        else:\n",
        "            patience += 1\n",
        "        if patience > max_patience:\n",
        "            print(\"Early stopping due to validation loss not improving\")\n",
        "            break\n",
        "\n",
        "# Save your model's weights\n",
        "torch.save(model.state_dict(), \"model.pth\")"
      ]
    },
    {
      "cell_type": "markdown",
      "metadata": {
        "id": "JJ4yoS8JDqE6"
      },
      "source": [
        "### Plot your training and validation loss"
      ]
    },
    {
      "cell_type": "code",
      "execution_count": 83,
      "metadata": {
        "id": "oVFpiEPbDqE7",
        "colab": {
          "base_uri": "https://localhost:8080/",
          "height": 431
        },
        "outputId": "dfb5288d-7cd8-4834-b4f3-b2a0a55a4146"
      },
      "outputs": [
        {
          "output_type": "display_data",
          "data": {
            "text/plain": [
              "<Figure size 640x480 with 1 Axes>"
            ],
            "image/png": "[encoded data removed]"
          },
          "metadata": {}
        }
      ],
      "source": [
        "# Plot the training and validation loss\n",
        "plt.plot(eval_epochs, training_loss_values, label='Training loss')\n",
        "plt.plot(eval_epochs, val_loss_values, label='Validation loss')\n",
        "plt.legend()\n",
        "plt.show()"
      ]
    },
    {
      "cell_type": "markdown",
      "metadata": {
        "id": "K082PbS4xpbW"
      },
      "source": [
        "### Test your model against the validation dataset\n",
        "This should give you a rough idea on how your model will do on the test set that you don't have labels for.\n",
        "This section is not required and is only provided as a sanity check for you"
      ]
    },
    {
      "cell_type": "code",
      "execution_count": 84,
      "metadata": {
        "id": "J9rJjPJs1tno",
        "colab": {
          "base_uri": "https://localhost:8080/"
        },
        "outputId": "acb2a3ae-0f4b-44f0-fc42-1a2fafc2fe61"
      },
      "outputs": [
        {
          "output_type": "stream",
          "name": "stderr",
          "text": [
            "100%|██████████| 500/500 [00:00<00:00, 840.29it/s]\n"
          ]
        },
        {
          "output_type": "stream",
          "name": "stdout",
          "text": [
            "Accuracy: 0.556\n"
          ]
        }
      ],
      "source": [
        "## Load from your saved model\n",
        "import numpy as np\n",
        "import torch\n",
        "\n",
        "# Load from your saved model using torch.load\n",
        "model_state_dict = torch.load(\"./model.pth\")\n",
        "model = ImageClassifier(n_classes=n_classes).to(device)\n",
        "model.load_state_dict(model_state_dict)\n",
        "\n",
        "# set model to inference mode\n",
        "model.eval()\n",
        "batch_size = 1\n",
        "\n",
        "# Load the validation dataset\n",
        "img_root = \"/content/data/val\"\n",
        "test_dataset = CustomImageDataset(csv_path='/content/data/csvs/val.csv', data_root=img_root, transform=transform)\n",
        "test_loader = DataLoader(test_dataset, batch_size=batch_size, shuffle=False)\n",
        "\n",
        "preds = []\n",
        "model.eval()\n",
        "with torch.no_grad():\n",
        "    for img, label in tqdm(test_loader):\n",
        "        # TODO: predict the classes of the images and append them to the preds list\n",
        "        img = img.to(device)\n",
        "        # Predict the classes of the images and append them to the preds list\n",
        "        outputs = model(img)\n",
        "        _, predicted = torch.max(outputs.data, 1)\n",
        "        preds.extend(predicted.cpu().numpy())\n",
        "\n",
        "# Get the true labels for the validation dataset\n",
        "true_labels = [label for _, label in test_dataset]\n",
        "\n",
        "accuracy = (np.array(true_labels) == np.array(preds)).mean()\n",
        "print(f\"Accuracy: {accuracy}\")"
      ]
    },
    {
      "cell_type": "code",
      "source": [
        "print(len(true_labels))\n"
      ],
      "metadata": {
        "colab": {
          "base_uri": "https://localhost:8080/"
        },
        "id": "NEpOXaFrt1qn",
        "outputId": "626f3565-f419-494d-e1ee-f834ceced384"
      },
      "execution_count": null,
      "outputs": [
        {
          "output_type": "stream",
          "name": "stdout",
          "text": [
            "1500\n"
          ]
        }
      ]
    },
    {
      "cell_type": "markdown",
      "metadata": {
        "id": "V8fLnrflZ0bY"
      },
      "source": [
        "### Evaluation\n",
        "Evaluate your model on the test dataset and create a CSF file. This is the file you need to submit.\n",
        "> Important: make sure the prediction file has the columns: image_name, prediction, image_path"
      ]
    },
    {
      "cell_type": "code",
      "execution_count": 85,
      "metadata": {
        "id": "WVoWLoSBZ26n",
        "colab": {
          "base_uri": "https://localhost:8080/"
        },
        "outputId": "01d33e9b-327a-4170-d02a-326e3feafe98"
      },
      "outputs": [
        {
          "output_type": "stream",
          "name": "stderr",
          "text": [
            "100%|██████████| 1500/1500 [00:01<00:00, 863.60it/s]\n"
          ]
        }
      ],
      "source": [
        "## Load from your saved model\n",
        "import numpy as np\n",
        "import torch\n",
        "\n",
        "# Load from your saved model using torch.load\n",
        "model_state_dict = torch.load(\"./model.pth\")\n",
        "model = ImageClassifier(n_classes=n_classes).to(device)\n",
        "model.load_state_dict(model_state_dict)\n",
        "\n",
        "# set model to inference mode\n",
        "model.eval()\n",
        "\n",
        "# Load the test data\n",
        "img_root = \"/content/data/test\"\n",
        "test_dataset = CustomImageDataset(csv_path='/content/data/csvs/test.csv', data_root=img_root, transform=transform)\n",
        "# TODO: Create a DataLoader for the test dataset\n",
        "test_loader = DataLoader(test_dataset, batch_size=batch_size, shuffle=False)\n",
        "\n",
        "# TODO: Predict and save output to a CSV file. We are just looking for the top class predicted\n",
        "# Hint: Lookup argmax.\n",
        "final_preds = []\n",
        "\n",
        "with torch.no_grad():\n",
        "    for img, img_names, img_paths in tqdm(test_loader):\n",
        "        img = img.to(device)\n",
        "        # Predict the classes of the images\n",
        "        outputs = model(img)\n",
        "        _, pred = torch.max(outputs.data, 1)\n",
        "        pred = pred.cpu().numpy().tolist()\n",
        "\n",
        "        # For every element in the batch, get its predicted class id in `pred`\n",
        "        # Class ID will be in int.\n",
        "        batch_preds = [\n",
        "            (img_name, pred_img, img_path)\n",
        "            for (img_name, pred_img, img_path) in zip(img_names, pred, img_paths)\n",
        "        ]\n",
        "        final_preds.extend(batch_preds)"
      ]
    },
    {
      "cell_type": "code",
      "execution_count": 86,
      "metadata": {
        "id": "0YwTrORz9Z9I",
        "colab": {
          "base_uri": "https://localhost:8080/",
          "height": 17
        },
        "outputId": "8e5d4581-642a-4a3f-cf9f-bf6b73f916ca"
      },
      "outputs": [
        {
          "output_type": "display_data",
          "data": {
            "text/plain": [
              "<IPython.core.display.Javascript object>"
            ],
            "application/javascript": [
              "\n",
              "    async function download(id, filename, size) {\n",
              "      if (!google.colab.kernel.accessAllowed) {\n",
              "        return;\n",
              "      }\n",
              "      const div = document.createElement('div');\n",
              "      const label = document.createElement('label');\n",
              "      label.textContent = `Downloading \"${filename}\": `;\n",
              "      div.appendChild(label);\n",
              "      const progress = document.createElement('progress');\n",
              "      progress.max = size;\n",
              "      div.appendChild(progress);\n",
              "      document.body.appendChild(div);\n",
              "\n",
              "      const buffers = [];\n",
              "      let downloaded = 0;\n",
              "\n",
              "      const channel = await google.colab.kernel.comms.open(id);\n",
              "      // Send a message to notify the kernel that we're ready.\n",
              "      channel.send({})\n",
              "\n",
              "      for await (const message of channel.messages) {\n",
              "        // Send a message to notify the kernel that we're ready.\n",
              "        channel.send({})\n",
              "        if (message.buffers) {\n",
              "          for (const buffer of message.buffers) {\n",
              "            buffers.push(buffer);\n",
              "            downloaded += buffer.byteLength;\n",
              "            progress.value = downloaded;\n",
              "          }\n",
              "        }\n",
              "      }\n",
              "      const blob = new Blob(buffers, {type: 'application/binary'});\n",
              "      const a = document.createElement('a');\n",
              "      a.href = window.URL.createObjectURL(blob);\n",
              "      a.download = filename;\n",
              "      div.appendChild(a);\n",
              "      a.click();\n",
              "      div.remove();\n",
              "    }\n",
              "  "
            ]
          },
          "metadata": {}
        },
        {
          "output_type": "display_data",
          "data": {
            "text/plain": [
              "<IPython.core.display.Javascript object>"
            ],
            "application/javascript": [
              "download(\"download_432b79dc-bd3a-44c1-8f33-d8ba9526fadb\", \"prediction.csv\", 66424)"
            ]
          },
          "metadata": {}
        }
      ],
      "source": [
        "# DO NOT MODIFY\n",
        "test_prediction = pd.DataFrame(final_preds, columns=['image_name', 'prediction', 'image_path'])\n",
        "test_prediction.to_csv('prediction.csv')\n",
        "\n",
        "# You can comment these lines out if you're running the notebook locally\n",
        "from google.colab import files\n",
        "files.download('prediction.csv')"
      ]
    },
    {
      "cell_type": "markdown",
      "source": [
        "Upload *prediction.csv* on gradescope"
      ],
      "metadata": {
        "id": "ao_JoY-TExSr"
      }
    },
    {
      "cell_type": "code",
      "source": [],
      "metadata": {
        "id": "kDe6XxXbE3Jj"
      },
      "execution_count": null,
      "outputs": []
    }
  ],
  "metadata": {
    "accelerator": "GPU",
    "colab": {
      "gpuType": "T4",
      "provenance": []
    },
    "kernelspec": {
      "display_name": "Python 3",
      "name": "python3"
    },
    "language_info": {
      "codemirror_mode": {
        "name": "ipython",
        "version": 3
      },
      "file_extension": ".py",
      "mimetype": "text/x-python",
      "name": "python",
      "nbconvert_exporter": "python",
      "pygments_lexer": "ipython3",
      "version": "3.10.14"
    }
  },
  "nbformat": 4,
  "nbformat_minor": 0
}
